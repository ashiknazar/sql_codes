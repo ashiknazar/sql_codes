{
 "cells": [
  {
   "cell_type": "raw",
   "metadata": {
    "vscode": {
     "languageId": "raw"
    }
   },
   "source": [
    "\n",
    "employee_id\tfirst_name\tlast_name\t   salary\n",
    "  1\t         John          \tDoe\t        60000\n",
    "  2\t         Jane           Smith\t    45000\n",
    "  3\t         Alice\t        Brown\t    70000\n",
    "  4\t          Bob\t        Johnson\t    52000\n",
    "  5\t         Charlie\t     Davis\t    48000\n",
    "  6\t          Eve\t         Miller\t    55000\n"
   ]
  },
  {
   "cell_type": "markdown",
   "metadata": {
    "vscode": {
     "languageId": "sql"
    }
   },
   "source": [
    "```sql\n",
    "SELECT temp.first_name, temp.salary\n",
    "FROM (SELECT first_name, salary FROM employees WHERE salary > 50000) AS temp;\n",
    "\n"
   ]
  },
  {
   "cell_type": "code",
   "execution_count": null,
   "metadata": {
    "vscode": {
     "languageId": "sql"
    }
   },
   "outputs": [],
   "source": []
  },
  {
   "cell_type": "raw",
   "metadata": {
    "vscode": {
     "languageId": "raw"
    }
   },
   "source": [
    "```SELECT first_name, salary \n",
    "FROM employees \n",
    "WHERE salary > 50000\n",
    "```\n",
    "\n",
    "\n"
   ]
  },
  {
   "cell_type": "raw",
   "metadata": {
    "vscode": {
     "languageId": "raw"
    }
   },
   "source": [
    "\n",
    "first_name\tsalary\n",
    "John\t60000\n",
    "Alice\t70000\n",
    "Bob\t   52000\n",
    "Eve\t   55000"
   ]
  },
  {
   "cell_type": "markdown",
   "metadata": {},
   "source": [
    "___"
   ]
  },
  {
   "cell_type": "markdown",
   "metadata": {
    "vscode": {
     "languageId": "raw"
    }
   },
   "source": [
    "5. SELF JOIN\n",
    "- A SELF JOIN is a regular join, but the table is joined with itself. It is useful when you want to compare rows within the same table.\n",
    "\n",
    "- Syntax:\n",
    "\n",
    "- sql\n",
    "```sql\n",
    "SELECT a.column1, b.column2\n",
    "FROM table_name a, table_name b\n",
    "WHERE a.column = b.column;\n",
    "```"
   ]
  },
  {
   "cell_type": "markdown",
   "metadata": {},
   "source": [
    "___"
   ]
  },
  {
   "cell_type": "markdown",
   "metadata": {},
   "source": [
    "- FULL OUTER JOIN\n",
    "- A FULL OUTER JOIN returns all records when there is a match in either left or right table. It combines the result of both LEFT and RIGHT JOIN.\n",
    "\n",
    "- sql\n",
    "```sql SELECT table1.column1, table2.column2\n",
    "FROM table1\n",
    "FULL OUTER JOIN table2 ON table1.column = table2.column;"
   ]
  },
  {
   "cell_type": "markdown",
   "metadata": {},
   "source": [
    "___"
   ]
  },
  {
   "cell_type": "markdown",
   "metadata": {},
   "source": [
    "- CROSS JOIN\n",
    "- A CROSS JOIN returns the Cartesian product of the two tables, i.e., every row of the first table is combined with every row of the second table.\n",
    "\n",
    "- sql\n",
    "```sql\n",
    "SELECT column1, column2\n",
    "FROM table1\n",
    "CROSS JOIN table2;"
   ]
  },
  {
   "cell_type": "markdown",
   "metadata": {},
   "source": [
    "___"
   ]
  },
  {
   "cell_type": "markdown",
   "metadata": {},
   "source": [
    "- Subquery in SELECT Clause\n",
    "- You can use a subquery in the SELECT clause to compute values that depend on other queries.\n",
    "\n",
    "- sql\n",
    "```sql\n",
    "SELECT name, (SELECT MAX(score) FROM grades WHERE student_id = students.id) AS highest_grade\n",
    "FROM students;\n",
    "```"
   ]
  },
  {
   "cell_type": "markdown",
   "metadata": {},
   "source": [
    "___"
   ]
  },
  {
   "cell_type": "markdown",
   "metadata": {},
   "source": [
    "- 4. Window Functions (Analytic Functions)\n",
    "- Window functions perform calculations across a set of table rows related to the current row, without collapsing the result set (like GROUP BY does)."
   ]
  },
  {
   "cell_type": "markdown",
   "metadata": {},
   "source": [
    "- ROW_NUMBER()"
   ]
  },
  {
   "cell_type": "markdown",
   "metadata": {},
   "source": [
    "- The ROW_NUMBER() function assigns a unique sequential integer to rows within a partition of a result set.\n",
    "\n",
    "- sql\n",
    "```sql\n",
    "SELECT name, department, ROW_NUMBER() OVER (PARTITION BY department ORDER BY salary DESC) AS row_num\n",
    "FROM employees;\n",
    "```"
   ]
  },
  {
   "cell_type": "markdown",
   "metadata": {},
   "source": [
    "___"
   ]
  },
  {
   "cell_type": "markdown",
   "metadata": {},
   "source": [
    "- b. RANK() and DENSE_RANK()\n",
    "- RANK() provides a unique rank for each row, but it may skip ranks in the case of ties. DENSE_RANK() does not skip ranks.\n",
    "\n",
    "- sql\n",
    "```sql\n",
    "SELECT name, salary, RANK() OVER (ORDER BY salary DESC) AS rank\n",
    "FROM employees;"
   ]
  },
  {
   "cell_type": "markdown",
   "metadata": {},
   "source": [
    "___"
   ]
  },
  {
   "cell_type": "markdown",
   "metadata": {},
   "source": [
    "- c. NTILE()\n",
    "- The NTILE() function divides rows into a specified number of groups and assigns a number (from 1 to N) to each row, where N is the number of groups.\n",
    "\n",
    "```sql\n",
    "\n",
    "SELECT name, salary, NTILE(4) OVER (ORDER BY salary DESC) AS quartile\n",
    "FROM employees;\n",
    "\n"
   ]
  },
  {
   "cell_type": "markdown",
   "metadata": {},
   "source": [
    "___"
   ]
  },
  {
   "cell_type": "markdown",
   "metadata": {},
   "source": [
    "- Common Table Expressions (CTEs)\n",
    "- A CTE is a temporary result set that you can reference within a SELECT, INSERT, UPDATE, or DELETE statement. It improves readability and can help with recursive queries.\n",
    "\n",
    "- a. Basic CTE\n",
    "```sql\n",
    "\n",
    "WITH cte_name AS (\n",
    "    SELECT column1, column2\n",
    "    FROM table_name\n",
    "    WHERE condition\n",
    ")\n",
    "SELECT *\n",
    "FROM cte_name;\n",
    "```\n",
    "___"
   ]
  },
  {
   "cell_type": "markdown",
   "metadata": {},
   "source": [
    "- b. Recursive CTE\n",
    "- Recursive CTEs allow for recursive queries, such as hierarchical data (like an organizational chart).\n",
    "\n",
    "```sql\n",
    "\n",
    "WITH RECURSIVE cte_name AS (\n",
    "    SELECT column1, column2\n",
    "    FROM table_name\n",
    "    WHERE condition\n",
    "    UNION ALL\n",
    "    SELECT t.column1, t.column2\n",
    "    FROM table_name t\n",
    "    INNER JOIN cte_name c ON t.column1 = c.column2\n",
    ")\n",
    "SELECT *\n",
    "FROM cte_name;\n"
   ]
  },
  {
   "cell_type": "markdown",
   "metadata": {},
   "source": [
    "___"
   ]
  },
  {
   "cell_type": "markdown",
   "metadata": {},
   "source": [
    "- INTERSECT (Returns common results from both queries)\n",
    "```sql\n",
    "\n",
    "SELECT name FROM employees\n",
    "INTERSECT\n",
    "SELECT name FROM contractors;"
   ]
  },
  {
   "cell_type": "markdown",
   "metadata": {},
   "source": [
    "___\n",
    "- EXCEPT (Returns records from the first query not present in the second query)\n",
    "```sql\n",
    "\n",
    "SELECT name FROM employees\n",
    "EXCEPT\n",
    "SELECT name FROM contractors;"
   ]
  },
  {
   "cell_type": "markdown",
   "metadata": {},
   "source": [
    "___"
   ]
  },
  {
   "cell_type": "markdown",
   "metadata": {},
   "source": [
    "- Handling NULL Values\n",
    "- COALESCE()\n",
    "This function returns the first non-null value from a list of expressions.\n",
    "\n",
    "```sql\n",
    "\n",
    "SELECT name, COALESCE(phone, 'No phone number') AS phone_number\n",
    "FROM employees;\n",
    "```\n",
    "- IFNULL() (MySQL) / ISNULL() (SQL Server)\n",
    "- Replaces NULL with a specified value.\n",
    "\n",
    "```sql\n",
    "\n",
    "SELECT name, IFNULL(salary, 0) AS salary\n",
    "FROM employees;"
   ]
  },
  {
   "cell_type": "markdown",
   "metadata": {},
   "source": [
    "___"
   ]
  },
  {
   "cell_type": "markdown",
   "metadata": {},
   "source": [
    "- Indexing and Optimizing Queries\n",
    "-  Creating an Index\n",
    "- Indexes are used to speed up query execution. You can create an index on one or more columns.\n",
    "\n",
    "```sql\n",
    "\n",
    "CREATE INDEX idx_employee_name ON employees(name);\n",
    "\n",
    "-  Using EXPLAIN to Optimize Queries\n",
    "- The EXPLAIN keyword is used to analyze and optimize SQL queries. It provides information on how the query will be executed.\n",
    "```\n",
    "```sql\n",
    "\n",
    "EXPLAIN SELECT name, salary FROM employees WHERE department = 'HR';"
   ]
  },
  {
   "cell_type": "markdown",
   "metadata": {},
   "source": [
    "___"
   ]
  },
  {
   "cell_type": "markdown",
   "metadata": {},
   "source": [
    "- Transactions\n",
    "- Transactions ensure that a series of SQL operations are performed in a way that is either fully completed or fully rolled back."
   ]
  },
  {
   "cell_type": "markdown",
   "metadata": {},
   "source": [
    "- START TRANSACTION, COMMIT, ROLLBACK"
   ]
  },
  {
   "cell_type": "markdown",
   "metadata": {},
   "source": [
    "```sql\n",
    "START TRANSACTION;\n",
    "\n",
    "UPDATE employees SET salary = salary * 1.05 WHERE department = 'HR';\n",
    "\n",
    "-- If everything is successful\n",
    "COMMIT;\n",
    "\n",
    "-- If something goes wrong\n",
    "ROLLBACK;\n",
    "```"
   ]
  },
  {
   "cell_type": "markdown",
   "metadata": {},
   "source": []
  }
 ],
 "metadata": {
  "kernelspec": {
   "display_name": "base",
   "language": "python",
   "name": "python3"
  },
  "language_info": {
   "codemirror_mode": {
    "name": "ipython",
    "version": 3
   },
   "file_extension": ".py",
   "mimetype": "text/x-python",
   "name": "python",
   "nbconvert_exporter": "python",
   "pygments_lexer": "ipython3",
   "version": "3.12.7"
  }
 },
 "nbformat": 4,
 "nbformat_minor": 2
}
