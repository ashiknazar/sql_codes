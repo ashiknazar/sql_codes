{
 "cells": [
  {
   "cell_type": "markdown",
   "metadata": {},
   "source": [
    "- Data Definition Language(DDL)\n",
    "     - CREATE\n",
    "     - ALTER\n",
    "     - DROP\n",
    "     - TRUNCATE\n",
    "     - change structure of table\n",
    "     - it permanantly changes/automatically saves\n",
    "     "
   ]
  },
  {
   "cell_type": "markdown",
   "metadata": {},
   "source": [
    "- Data Manipulation Language (DML)\n",
    "  - SELECT(DQL)\n",
    "  - UPDATE\n",
    "  - DELETE\n",
    "  - INSERT\n"
   ]
  },
  {
   "cell_type": "markdown",
   "metadata": {},
   "source": [
    "- Data Control Language(DCL)\n",
    "  - Grant\n",
    "  - Revoke"
   ]
  },
  {
   "cell_type": "markdown",
   "metadata": {},
   "source": [
    "- Transaction Control Language\n",
    "    - Commit\n",
    "    - Rollback\n",
    "    "
   ]
  },
  {
   "cell_type": "markdown",
   "metadata": {},
   "source": [
    "SELECT column1,column2... <br>\n",
    "FROM table_name <br>\n",
    "WHERE condition1,condition2..<br>\n",
    "GROUP BY column1,column2..<br>\n",
    "HAVING condition1,condition2..<br>\n",
    "ORDER BY column1,column2<br>"
   ]
  },
  {
   "cell_type": "markdown",
   "metadata": {},
   "source": [
    "#### data types\n",
    "![data types](images/sql_data_types.png)"
   ]
  },
  {
   "cell_type": "markdown",
   "metadata": {},
   "source": [
    "![operators](images/operators.png)"
   ]
  },
  {
   "cell_type": "markdown",
   "metadata": {},
   "source": [
    "### ER DIAGRAM"
   ]
  },
  {
   "cell_type": "markdown",
   "metadata": {},
   "source": [
    "- structural design of the database.\n",
    "- specialized symbols to define the relationship between entities\n",
    "- created based on 3 Main components\n",
    "     - Entities\n",
    "     - Attributes\n",
    "     - Relationships"
   ]
  },
  {
   "cell_type": "markdown",
   "metadata": {},
   "source": [
    " ![er diagram](images/erd.png)"
   ]
  },
  {
   "cell_type": "markdown",
   "metadata": {},
   "source": [
    "-  rectangle - > entity\n",
    "-  oval -> attribute\n",
    "-  double rectangle  -> weak entity\n",
    "-  dashed oval  ->  derived attribute\n",
    "-  diamond  -> relationship\n",
    "-  double oval  -> multivalued attribute\n"
   ]
  },
  {
   "cell_type": "markdown",
   "metadata": {},
   "source": [
    "- weak entity\n",
    "   - that relies over another entity\n",
    "   "
   ]
  },
  {
   "cell_type": "markdown",
   "metadata": {},
   "source": [
    "- Attributes\n",
    "   -  key\n",
    "   - composite \n",
    "   - multi values\n",
    "   - Derived"
   ]
  },
  {
   "cell_type": "markdown",
   "metadata": {},
   "source": [
    " ![composite attributes](images/comp.png)"
   ]
  },
  {
   "cell_type": "markdown",
   "metadata": {},
   "source": [
    "#### commands\n",
    "\n",
    "- show data bases;\n",
    "- use data_base_name;\n",
    "- show tables;\n",
    "- select * from table_name;\n"
   ]
  },
  {
   "cell_type": "code",
   "execution_count": null,
   "metadata": {
    "vscode": {
     "languageId": "sql"
    }
   },
   "outputs": [],
   "source": [
    "create table Person \n",
    " (person_id int,\n",
    " FirstName varchar(255),\n",
    " lastName varchar(255));"
   ]
  },
  {
   "cell_type": "code",
   "execution_count": null,
   "metadata": {
    "vscode": {
     "languageId": "sql"
    }
   },
   "outputs": [],
   "source": [
    "insert into Person \n",
    "values (1,'john','lee');"
   ]
  },
  {
   "cell_type": "code",
   "execution_count": null,
   "metadata": {
    "vscode": {
     "languageId": "sql"
    }
   },
   "outputs": [],
   "source": [
    "select * from Persons where FirstName = 'john'"
   ]
  },
  {
   "cell_type": "code",
   "execution_count": null,
   "metadata": {
    "vscode": {
     "languageId": "sql"
    }
   },
   "outputs": [],
   "source": [
    "select FirstName from Person ;"
   ]
  },
  {
   "cell_type": "markdown",
   "metadata": {
    "vscode": {
     "languageId": "sql"
    }
   },
   "source": [
    "### download sql SERVER 2022 EXPRESS edition of sql server "
   ]
  },
  {
   "cell_type": "markdown",
   "metadata": {},
   "source": [
    "- install basic\n",
    "- "
   ]
  },
  {
   "cell_type": "code",
   "execution_count": null,
   "metadata": {
    "vscode": {
     "languageId": "sql"
    }
   },
   "outputs": [],
   "source": [
    "select abs(-22);\n",
    "select mod(10,4);\n",
    "select mod(10,4) as remainder;\n",
    "select power(4,2);\n",
    "select power(10,3);\n",
    "select sqrt(16);\n",
    "select greatest(2,5,7,83,23,42,5);\n",
    "select least(1,3,4,2,3,5,34,5);\n",
    "select truncate (22.8972,1);  --truncated up to 1 decimal places\n"
   ]
  },
  {
   "cell_type": "code",
   "execution_count": null,
   "metadata": {
    "vscode": {
     "languageId": "sql"
    }
   },
   "outputs": [],
   "source": [
    "select round(22.784); --next highest\n",
    "select round(22.2324,2);\n"
   ]
  },
  {
   "cell_type": "code",
   "execution_count": null,
   "metadata": {
    "vscode": {
     "languageId": "sql"
    }
   },
   "outputs": [],
   "source": [
    "insert into students values \n",
    "(12,'jos',23),\n",
    "(13,'raj',23),\n",
    "(14,'jane',24);\n"
   ]
  },
  {
   "cell_type": "code",
   "execution_count": null,
   "metadata": {
    "vscode": {
     "languageId": "sql"
    }
   },
   "outputs": [],
   "source": [
    "select * from students where name='jane' and age=23;"
   ]
  },
  {
   "cell_type": "code",
   "execution_count": null,
   "metadata": {
    "vscode": {
     "languageId": "sql"
    }
   },
   "outputs": [],
   "source": [
    "select city,count(student_id) as total_students \n",
    "from students group by city;"
   ]
  },
  {
   "cell_type": "code",
   "execution_count": null,
   "metadata": {
    "vscode": {
     "languageId": "sql"
    }
   },
   "outputs": [],
   "source": [
    "select city,count(student_id) as total_students\n",
    "from students group by city\n",
    "having count(student_id) > 3;"
   ]
  },
  {
   "cell_type": "code",
   "execution_count": null,
   "metadata": {
    "vscode": {
     "languageId": "sql"
    }
   },
   "outputs": [],
   "source": [
    "select * from students order by city;\n",
    "select * from students order by city desc;\n"
   ]
  },
  {
   "cell_type": "markdown",
   "metadata": {},
   "source": [
    "#### string operations"
   ]
  },
  {
   "cell_type": "code",
   "execution_count": null,
   "metadata": {
    "vscode": {
     "languageId": "sql"
    }
   },
   "outputs": [],
   "source": [
    "select upper('india') as up;\n",
    "select lower('IND') as lower;\n",
    "select lcase('IND') as lower;\n",
    "select character_length('india') as tot_len;\n",
    "\n",
    "select character_length(stud_name) as tot_len\n",
    "from students;\n"
   ]
  },
  {
   "cell_type": "code",
   "execution_count": null,
   "metadata": {
    "vscode": {
     "languageId": "sql"
    }
   },
   "outputs": [],
   "source": [
    "--chara_length\n",
    "--concat\n",
    "select concat (\"india\" ,\"is \",\"in asia\") as sent;\n",
    "select reverse(\"india\");\n",
    "select replace(\"orange is a vegitabel\",\"vegitable\",\"fruit\");\n",
    "select ltrim(\"        left drop      \");\n",
    "-- rtrim\n",
    "select position (\"fruit\" in \"orange is a fruit \")as name;\n",
    "select ascii(4);\n"
   ]
  },
  {
   "cell_type": "code",
   "execution_count": null,
   "metadata": {
    "vscode": {
     "languageId": "sql"
    }
   },
   "outputs": [],
   "source": [
    "CREATE TABLE employee_table(\n",
    "    emp_id INTEGER NOT NULL,\n",
    "    emp_name CHAR(150) NOT NULL,\n",
    "    emp_add VARCHAR(500) DEFAULT NULL,\n",
    "    PRIMARY KEY (emp_id)\n",
    ");"
   ]
  },
  {
   "cell_type": "code",
   "execution_count": null,
   "metadata": {
    "vscode": {
     "languageId": "sql"
    }
   },
   "outputs": [],
   "source": [
    "INSERT INTO employee_table (emp_id,emp_name,emp_add)\n",
    "VALUES\n",
    "(1,\"SASA\",\"ADDDRE1\");"
   ]
  },
  {
   "cell_type": "code",
   "execution_count": null,
   "metadata": {
    "vscode": {
     "languageId": "sql"
    }
   },
   "outputs": [],
   "source": [
    "CREATE DATABASE IF NOT EXISTS simplilearn_db;\n"
   ]
  },
  {
   "cell_type": "code",
   "execution_count": null,
   "metadata": {
    "vscode": {
     "languageId": "sql"
    }
   },
   "outputs": [],
   "source": [
    "CREATE TABLE dup_table SELECT DISTINCT * FROM employee_table;\n",
    "DROP TABLE dup_table;\n",
    "SELECT DISTINCT * FROM employee_table;\n",
    "ALTER TABLE dup_table RENAME TO second_table;\n",
    "TRUNCATE TABLE second_table;\n"
   ]
  },
  {
   "cell_type": "markdown",
   "metadata": {},
   "source": [
    "- Removes all rows from a table  It is typically faster than a DELETE.\n",
    "\n",
    "- It's fast and doesn't log every row deletion (which makes it faster)."
   ]
  },
  {
   "cell_type": "code",
   "execution_count": null,
   "metadata": {
    "vscode": {
     "languageId": "sql"
    }
   },
   "outputs": [],
   "source": [
    "DELETE T1 FROM employee_table T1\n",
    "INNER JOIN employee_table_1 T2\n",
    "WHERE T1.emp_id > T2.emp_id ;\n",
    "\n",
    "ALTER TABLE employee_table \n",
    "ADD COLUMN phone_number VARCHAR(15) NOT NULL DEFAULT 'N/A';"
   ]
  },
  {
   "cell_type": "code",
   "execution_count": null,
   "metadata": {
    "vscode": {
     "languageId": "sql"
    }
   },
   "outputs": [],
   "source": [
    "SELECT * FROM employee_table\n",
    "GROUP BY salary\n",
    "ORDER BY salary DESC LIMIT N-1,1;"
   ]
  },
  {
   "cell_type": "code",
   "execution_count": null,
   "metadata": {
    "vscode": {
     "languageId": "sql"
    }
   },
   "outputs": [],
   "source": [
    "CREATE VIEW view_stu AS\n",
    "SELECT * FROM students\n",
    "WHERE place='kerala' ;"
   ]
  },
  {
   "cell_type": "markdown",
   "metadata": {},
   "source": [
    "- A view in SQL is essentially a virtual table that provides a way to represent data from one or more tables in a specific, often simplified, format. It doesn't store data itself but instead shows data dynamically based on a query you define when you create the view."
   ]
  },
  {
   "cell_type": "code",
   "execution_count": null,
   "metadata": {
    "vscode": {
     "languageId": "sql"
    }
   },
   "outputs": [],
   "source": [
    "CREATE VIEW customer_order_summary AS\n",
    "SELECT customers.name, orders.order_date, SUM(order_items.amount) AS total_spent\n",
    "FROM customers\n",
    "JOIN orders ON customers.customer_id = orders.customer_id\n",
    "JOIN order_items ON orders.order_id = order_items.order_id\n",
    "GROUP BY customers.name, orders.order_date;\n"
   ]
  },
  {
   "cell_type": "markdown",
   "metadata": {},
   "source": [
    "- a temporary table in sql is a special table that has no permanent storage allocated in the sql databases. a temporary table in sql has existence until the database session is active"
   ]
  },
  {
   "cell_type": "code",
   "execution_count": null,
   "metadata": {
    "vscode": {
     "languageId": "sql"
    }
   },
   "outputs": [],
   "source": [
    "CREATE TEMPORARY TABLE table_name (parameters);\n"
   ]
  },
  {
   "cell_type": "markdown",
   "metadata": {},
   "source": [
    "- Temporary tables in SQL are used to store data temporarily during the execution of a session or a specific query. They are very useful for intermediate storage, especially when you need to manipulate or process data that doesn't need to be permanently stored in the database."
   ]
  },
  {
   "cell_type": "markdown",
   "metadata": {
    "vscode": {
     "languageId": "sql"
    }
   },
   "source": [
    "### Intermediate Storage for Complex Queries\n",
    "- Problem: When working with complex queries that require multiple joins, aggregations, or calculations, it can become difficult to work with the results directly in a single query.\n",
    "- Solution: Temporary tables allow you to break down complex queries into smaller, manageable steps. You can store intermediate results in a temporary table and then perform further operations on them."
   ]
  },
  {
   "cell_type": "code",
   "execution_count": null,
   "metadata": {
    "vscode": {
     "languageId": "sql"
    }
   },
   "outputs": [],
   "source": [
    "UPDATE TABLE table_name (\n",
    "    SET COLUMN_NAME = Parameter,\n",
    "    WHERE CONDITION\n",
    "); "
   ]
  },
  {
   "cell_type": "code",
   "execution_count": null,
   "metadata": {
    "vscode": {
     "languageId": "sql"
    }
   },
   "outputs": [],
   "source": [
    "ALTER TABLE table_name\n",
    "DROP COLUMN column_name;"
   ]
  },
  {
   "cell_type": "code",
   "execution_count": null,
   "metadata": {
    "vscode": {
     "languageId": "sql"
    }
   },
   "outputs": [],
   "source": [
    "SELECT GETDATE();\n",
    "SELECT CURDATE();"
   ]
  },
  {
   "cell_type": "code",
   "execution_count": null,
   "metadata": {
    "vscode": {
     "languageId": "sql"
    }
   },
   "outputs": [],
   "source": [
    "DESC table_name;"
   ]
  },
  {
   "cell_type": "code",
   "execution_count": null,
   "metadata": {
    "vscode": {
     "languageId": "sql"
    }
   },
   "outputs": [],
   "source": [
    "ALTER TABLE table_name\n",
    "MODIFY column_name DATATYPE;"
   ]
  },
  {
   "cell_type": "code",
   "execution_count": null,
   "metadata": {
    "vscode": {
     "languageId": "sql"
    }
   },
   "outputs": [],
   "source": [
    "ALTER TABLE employe_table\n",
    "MODIFY pincode INTEGER;"
   ]
  },
  {
   "cell_type": "code",
   "execution_count": null,
   "metadata": {
    "vscode": {
     "languageId": "sql"
    }
   },
   "outputs": [],
   "source": [
    "ALTER TABLE table_name\n",
    "RENAME COLUMN old_name to new_name;"
   ]
  },
  {
   "cell_type": "code",
   "execution_count": null,
   "metadata": {
    "vscode": {
     "languageId": "sql"
    }
   },
   "outputs": [],
   "source": [
    "SELECT parameters FROM table_name\n",
    "GROUP BY parameters;"
   ]
  },
  {
   "cell_type": "code",
   "execution_count": null,
   "metadata": {
    "vscode": {
     "languageId": "sql"
    }
   },
   "outputs": [],
   "source": [
    "SELECT department,AVG(salary) FROM employe_table\n",
    "GROUP BY department \n",
    "ORDER BY salary DESC;"
   ]
  },
  {
   "cell_type": "code",
   "execution_count": null,
   "metadata": {
    "vscode": {
     "languageId": "sql"
    }
   },
   "outputs": [],
   "source": [
    "SELECT * FROM employe_table\n",
    "WHERE salary BETWEEN 10000 AND 20000;"
   ]
  },
  {
   "cell_type": "code",
   "execution_count": null,
   "metadata": {
    "vscode": {
     "languageId": "sql"
    }
   },
   "outputs": [],
   "source": [
    "SELECT * FROM table_name\n",
    "WHERE column_name LIKE 'constraints';\n"
   ]
  },
  {
   "cell_type": "code",
   "execution_count": null,
   "metadata": {
    "vscode": {
     "languageId": "sql"
    }
   },
   "outputs": [],
   "source": [
    "DELETE with Inner Join and where clause\n",
    "DELETE with Distinct COMMAND"
   ]
  },
  {
   "cell_type": "code",
   "execution_count": null,
   "metadata": {
    "vscode": {
     "languageId": "sql"
    }
   },
   "outputs": [],
   "source": [
    "DELETE T1 FROM emp T1\n",
    "INNER JOIN emp1 T2\n",
    "WHERE T1.emp_id > T2.emp_id ;"
   ]
  },
  {
   "cell_type": "markdown",
   "metadata": {},
   "source": [
    "### Normalization in DBMS"
   ]
  },
  {
   "cell_type": "markdown",
   "metadata": {},
   "source": [
    "- aims to eliminate redundant(duplicate) data and ensures data is stored logically\n",
    "- eliminates unwanted characteristics like insertion,update ,and deletion anomalies\n"
   ]
  },
  {
   "cell_type": "markdown",
   "metadata": {},
   "source": [
    "- primary key\n",
    "- foreign key\n",
    "- super key is a set of one or more key ,used to identify record uniquely\n",
    "- a candidate key is the minimal super key that can identify a record uniquely\n",
    "- each candidate key can work as a primary key\n"
   ]
  },
  {
   "cell_type": "markdown",
   "metadata": {},
   "source": [
    "### 1nf\n",
    "    - each table cell should contain a single value\n",
    "    - each record need to be unique "
   ]
  }
 ],
 "metadata": {
  "language_info": {
   "name": "python"
  }
 },
 "nbformat": 4,
 "nbformat_minor": 2
}
